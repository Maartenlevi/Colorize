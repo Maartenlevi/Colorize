{
 "cells": [
  {
   "cell_type": "code",
   "execution_count": 3,
   "id": "96cfb934",
   "metadata": {},
   "outputs": [
    {
     "name": "stderr",
     "output_type": "stream",
     "text": [
      "c:\\Users\\meijg\\anaconda3\\envs\\colorize\\lib\\site-packages\\tqdm\\auto.py:21: TqdmWarning: IProgress not found. Please update jupyter and ipywidgets. See https://ipywidgets.readthedocs.io/en/stable/user_install.html\n",
      "  from .autonotebook import tqdm as notebook_tqdm\n"
     ]
    }
   ],
   "source": [
    "from datasets import load_dataset\n",
    "import random\n",
    "import os\n",
    "import cv2\n",
    "import numpy as np\n",
    "import requests\n",
    "from tqdm import tqdm\n"
   ]
  },
  {
   "cell_type": "code",
   "execution_count": 39,
   "id": "7b2b23c9",
   "metadata": {},
   "outputs": [
    {
     "name": "stdout",
     "output_type": "stream",
     "text": [
      "Totaal aantal beelden: 112268\n"
     ]
    }
   ],
   "source": [
    "\n",
    "# Download de dataset (112k trainingsbeelden)\n",
    "ds = load_dataset(\"nickpai/coco2017-colorization\", split=\"train\", revision=\"main\")\n",
    "print(f\"Totaal aantal beelden: {len(ds)}\")  # ~112.268 :contentReference[oaicite:2]{index=2}"
   ]
  },
  {
   "cell_type": "code",
   "execution_count": 40,
   "id": "9fe425bb",
   "metadata": {},
   "outputs": [
    {
     "name": "stdout",
     "output_type": "stream",
     "text": [
      "Subset grootte: 100\n"
     ]
    }
   ],
   "source": [
    "N = 100\n",
    "indices = random.sample(range(len(ds)), N)\n",
    "subset = ds.select(indices)\n",
    "print(f\"Subset grootte: {len(subset)}\")\n"
   ]
  },
  {
   "cell_type": "code",
   "execution_count": 41,
   "id": "b3755442",
   "metadata": {},
   "outputs": [
    {
     "name": "stderr",
     "output_type": "stream",
     "text": [
      "Saving the dataset (1/1 shards): 100%|██████████| 100/100 [00:00<00:00, 6270.73 examples/s]\n"
     ]
    }
   ],
   "source": [
    "# Save the subset to a new dataset\n",
    "subset.save_to_disk(\"coco2017-colorization-subset\")"
   ]
  },
  {
   "cell_type": "code",
   "execution_count": 42,
   "id": "50a5bc4d",
   "metadata": {},
   "outputs": [
    {
     "name": "stdout",
     "output_type": "stream",
     "text": [
      "{'license': 2, 'file_name': 'train2017/000000041773.jpg', 'coco_url': 'http://images.cocodataset.org/train2017/000000041773.jpg', 'height': 480, 'width': 640, 'date_captured': '2013-11-17 03:02:14', 'flickr_url': 'http://farm5.staticflickr.com/4030/4623906560_212407aa92_z.jpg', 'image_id': 41773, 'ids': [171989, 172100, 174920, 176492, 178520], 'captions': ['A road sign on the side of a road.', 'a black and yellow sign a road a hill and some bushes', 'A yellow diamond shape sign indicating duck crossing. ', 'A roadway with green foliage on the side and a sign that says \"Nene Crossing\".', 'A sign warning the crossing of birds on a road. ']}\n"
     ]
    }
   ],
   "source": [
    "print(subset[0])"
   ]
  },
  {
   "cell_type": "code",
   "execution_count": 43,
   "id": "8c7b3da3",
   "metadata": {},
   "outputs": [
    {
     "name": "stdout",
     "output_type": "stream",
     "text": [
      "⬇️ Downloaden en resizen van afbeeldingen...\n"
     ]
    },
    {
     "name": "stderr",
     "output_type": "stream",
     "text": [
      "100%|██████████| 100/100 [01:00<00:00,  1.66it/s]"
     ]
    },
    {
     "name": "stdout",
     "output_type": "stream",
     "text": [
      "✅ Klaar! Afbeeldingen opgeslagen in: C:/Users/meijg/Colorize/data/images\n"
     ]
    },
    {
     "name": "stderr",
     "output_type": "stream",
     "text": [
      "\n"
     ]
    }
   ],
   "source": [
    "\n",
    "\n",
    "resize_to = (256, 256)\n",
    "output_dir = \"C:/Users/meijg/Colorize/data/images\"\n",
    "os.makedirs(output_dir, exist_ok=True)\n",
    "\n",
    "print(\"⬇️ Downloaden en resizen van afbeeldingen...\")\n",
    "for example in tqdm(subset):\n",
    "    url = example[\"coco_url\"]\n",
    "    filename = os.path.basename(url)\n",
    "    save_path = os.path.join(output_dir, filename)\n",
    "\n",
    "    if not os.path.exists(save_path):\n",
    "        try:\n",
    "            # Download image bytes\n",
    "            response = requests.get(url, timeout=10)\n",
    "            img_array = np.frombuffer(response.content, np.uint8)\n",
    "            img = cv2.imdecode(img_array, cv2.IMREAD_COLOR)\n",
    "\n",
    "            if img is None:\n",
    "                print(f\"⚠️ Ongeldige afbeelding: {url}\")\n",
    "                continue\n",
    "\n",
    "            # Resize en opslaan\n",
    "            resized_img = cv2.resize(img, resize_to)\n",
    "            cv2.imwrite(save_path, resized_img, [cv2.IMWRITE_JPEG_QUALITY, 90])\n",
    "\n",
    "        except Exception as e:\n",
    "            print(f\"❌ Fout bij {url}: {e}\")\n",
    "\n",
    "print(f\"✅ Klaar! Afbeeldingen opgeslagen in: {output_dir}\")\n"
   ]
  },
  {
   "cell_type": "code",
   "execution_count": 7,
   "id": "2373e6f8",
   "metadata": {},
   "outputs": [
    {
     "name": "stdout",
     "output_type": "stream",
     "text": [
      "⬇️ Converteer naar LAB en sla op als .npy...\n"
     ]
    },
    {
     "name": "stderr",
     "output_type": "stream",
     "text": [
      "100%|██████████| 100/100 [00:00<00:00, 779.56it/s]\n"
     ]
    }
   ],
   "source": [
    "lab_output_dir = \"C:/Users/meijg/Colorize/data/lab_images\"\n",
    "input_dir = \"C:/Users/meijg/Colorize/data/images\"\n",
    "os.makedirs(lab_output_dir, exist_ok=True)\n",
    "\n",
    "print(\"⬇️ Converteer naar LAB en sla op als .npy...\")\n",
    "\n",
    "for filename in tqdm(os.listdir(input_dir)):\n",
    "    input_path = os.path.join(input_dir, filename)\n",
    "    lab_path = os.path.join(lab_output_dir, os.path.splitext(filename)[0] + \".npy\")\n",
    "\n",
    "    if not os.path.exists(lab_path):\n",
    "        try:\n",
    "            img = cv2.imread(input_path)\n",
    "            if img is None:\n",
    "                print(f\"⚠️ Ongeldige afbeelding: {input_path}\")\n",
    "                continue\n",
    "\n",
    "            lab_img = cv2.cvtColor(img, cv2.COLOR_BGR2LAB)\n",
    "            np.save(lab_path, lab_img)\n",
    "\n",
    "        except Exception as e:\n",
    "            print(f\"❌ Fout bij {input_path}: {e}\")"
   ]
  },
  {
   "cell_type": "code",
   "execution_count": 10,
   "id": "8638b744",
   "metadata": {},
   "outputs": [
    {
     "name": "stdout",
     "output_type": "stream",
     "text": [
      "✅ Klaar! LAB-afbeeldingen opgeslagen in: C:/Users/meijg/Colorize/data/lab_images\n"
     ]
    }
   ],
   "source": [
    "# testing to change back to RGB\n",
    "test_image_path = \"C:/Users/meijg/Colorize/data/lab_images/000000005453.npy\" \n",
    "test_image = np.load(test_image_path)\n",
    "test_image_rgb = cv2.cvtColor(test_image, cv2.COLOR_LAB2BGR)\n",
    "cv2.imwrite(\"C:/Users/meijg/Colorize/data/test/test.jpg\", test_image_rgb)\n",
    "print(\"✅ Klaar! LAB-afbeeldingen opgeslagen in:\", lab_output_dir)"
   ]
  },
  {
   "cell_type": "code",
   "execution_count": null,
   "id": "415000b3",
   "metadata": {},
   "outputs": [
    {
     "data": {
      "text/plain": [
       "array([[[ 27,  19,  11],\n",
       "        [ 27,  19,  11],\n",
       "        [ 27,  19,  11],\n",
       "        ...,\n",
       "        [ 85,  91,  94],\n",
       "        [ 91,  97,  98],\n",
       "        [ 93,  99,  97]],\n",
       "\n",
       "       [[ 27,  19,  11],\n",
       "        [ 27,  19,  11],\n",
       "        [ 27,  19,  11],\n",
       "        ...,\n",
       "        [ 85,  91,  94],\n",
       "        [ 91,  97,  98],\n",
       "        [ 92,  99, 100]],\n",
       "\n",
       "       [[ 27,  19,  11],\n",
       "        [ 27,  19,  11],\n",
       "        [ 29,  20,  14],\n",
       "        ...,\n",
       "        [ 90,  93,  96],\n",
       "        [ 91,  97,  98],\n",
       "        [ 92,  99, 100]],\n",
       "\n",
       "       ...,\n",
       "\n",
       "       [[ 16,  32,  60],\n",
       "        [ 16,  32,  60],\n",
       "        [ 16,  32,  60],\n",
       "        ...,\n",
       "        [140, 140, 142],\n",
       "        [138, 138, 144],\n",
       "        [138, 138, 144]],\n",
       "\n",
       "       [[ 15,  30,  57],\n",
       "        [ 15,  30,  57],\n",
       "        [ 15,  30,  59],\n",
       "        ...,\n",
       "        [140, 140, 146],\n",
       "        [138, 138, 144],\n",
       "        [138, 138, 140]],\n",
       "\n",
       "       [[ 16,  30,  55],\n",
       "        [ 15,  30,  57],\n",
       "        [ 15,  30,  59],\n",
       "        ...,\n",
       "        [140, 140, 146],\n",
       "        [138, 138, 144],\n",
       "        [138, 138, 140]]], shape=(256, 256, 3), dtype=uint8)"
      ]
     },
     "execution_count": 5,
     "metadata": {},
     "output_type": "execute_result"
    }
   ],
   "source": []
  },
  {
   "cell_type": "code",
   "execution_count": null,
   "id": "69aeb321",
   "metadata": {},
   "outputs": [],
   "source": []
  }
 ],
 "metadata": {
  "kernelspec": {
   "display_name": "colorize",
   "language": "python",
   "name": "python3"
  },
  "language_info": {
   "codemirror_mode": {
    "name": "ipython",
    "version": 3
   },
   "file_extension": ".py",
   "mimetype": "text/x-python",
   "name": "python",
   "nbconvert_exporter": "python",
   "pygments_lexer": "ipython3",
   "version": "3.10.18"
  }
 },
 "nbformat": 4,
 "nbformat_minor": 5
}
